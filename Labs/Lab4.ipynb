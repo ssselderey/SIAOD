{
 "cells": [
  {
   "cell_type": "markdown",
   "id": "systematic-diabetes",
   "metadata": {},
   "source": [
    "# Лабораторная работа №4. Стек и Дек\n",
    "## Выполнила студентка группы БВТ2004 Ванчикова Нарана"
   ]
  },
  {
   "cell_type": "markdown",
   "id": "electrical-commerce",
   "metadata": {},
   "source": [
    "# Реализовать следующие структуры данных:\n",
    "● Стек (stack):\n",
    "операции для стека: инициализация, проверка на пустоту, добавление нового элемента в начало, извлечение элемента из начала;\n",
    "\n",
    "● Дек (двусторонняя очередь, deque):\n",
    "операции для дека: инициализация, проверка на пустоту, добавление нового элемента в начало, добавление нового элемента в конец, извлечение элемента из начала, извлечение элемента из конца.\n",
    "\n",
    "Разработать программу обработки данных, содержащихся в заранее подготовленном txt-файле, в соответствии с заданиями, применив указанную в задании структуру данных. \n",
    "\n",
    "Результат работы программы вывести на экран и сохранить в отдельном txt-файле.\n",
    "Оформить отчет о лабораторной работе в ipynb или pdf-файле."
   ]
  },
  {
   "cell_type": "markdown",
   "id": "agricultural-mercy",
   "metadata": {},
   "source": [
    "# Задания:\n",
    "1. Отсортировать строки файла, содержащие названия книг, в алфавитном порядке с\n",
    "использованием двух деков.\n",
    "2. Дек содержит последовательность символов для шифровки сообщений. Дан\n",
    "текстовый файл, содержащий зашифрованное сообщение. Пользуясь деком,\n",
    "расшифровать текст. Известно, что при шифровке каждый символ сообщения\n",
    "заменялся следующим за ним в деке по часовой стрелке через один.\n",
    "3. Даны три стержня и n дисков различного размера. Диски можно надевать на\n",
    "стержни, образуя из них башни. Перенести n дисков со стержня А на стержень С,\n",
    "сохранив их первоначальный порядок. При переносе дисков необходимо соблюдать\n",
    "следующие правила:\n",
    "- на каждом шаге со стержня на стержень переносить только один диск;\n",
    "- диск нельзя помещать на диск меньшего размера;\n",
    "- для промежуточного хранения можно использовать стержень В.\n",
    "Реализовать алгоритм, используя три стека вместо стержней А, В, С. Информация\n",
    "о дисках хранится в исходном файле.\n",
    "4. Дан текстовый файл с программой на алгоритмическом языке. За один просмотр\n",
    "файла проверить баланс круглых скобок в тексте, используя стек.\n",
    "5. Дан текстовый файл с программой на алгоритмическом языке. За один просмотр\n",
    "файла проверить баланс квадратных скобок в тексте, используя дек.\n",
    "6. Дан файл из символов. Используя стек, за один просмотр файла напечатать\n",
    "сначала все цифры, затем все буквы, и, наконец, все остальные символы, сохраняя\n",
    "исходный порядок в каждой группе символов.\n",
    "7. Дан файл из целых чисел. Используя дек, за один просмотр файла напечатать\n",
    "сначала все отрицательные числа, затем все положительные числа, сохраняя\n",
    "исходный порядок в каждой группе.\n",
    "8. Дан текстовый файл. Используя стек, сформировать новый текстовый файл,\n",
    "содержащий строки исходного файла, записанные в обратном порядке: первая\n",
    "строка становится последней, вторая – предпоследней и т.д.\n",
    "9. Дан текстовый файл. Используя стек, вычислить значение логического выражения,\n",
    "записанного в текстовом файле в следующей форме:\n",
    "< ЛВ > ::= T | F | (N<ЛВ>) | (<ЛВ>A<ЛВ>) | (<ЛВ>X<ЛВ>) | (<ЛВ>O<ЛВ>),\n",
    "где буквами обозначены логические константы и операции:\n",
    "T – True, F – False, N – Not, A – And, X – Xor, O – Or.\n",
    "10. Дан текстовый файл. В текстовом файле записана формула следующего вида:\n",
    "<Формула> ::= <Цифра> | M(<Формула>,<Формула>) | N(Формула>,<Формула>)\n",
    "< Цифра > ::= 0 | 1 | 2 | 3 | 4 | 5 | 6 | 7 | 8 | 9\n",
    "где буквами обозначены функции:\n",
    "M – определение максимума, N – определение минимума.\n",
    "Используя стек, вычислить значение заданного выражения.\n",
    "11. Дан текстовый файл. Используя стек, проверить, является ли содержимое\n",
    "текстового файла правильной записью формулы вида:\n",
    "< Формула > ::= < Терм > | < Терм > + < Формула > | < Терм > - < Формула >\n",
    "< Терм > ::= < Имя > | (< Формула >)\n",
    "< Имя > ::= x | y | z"
   ]
  },
  {
   "cell_type": "code",
   "execution_count": 26,
   "id": "liked-southeast",
   "metadata": {},
   "outputs": [],
   "source": [
    "class LinkedNode:\n",
    "    \"\"\" Связный список с ссылками на обратный и следующий элемент \"\"\"\n",
    "    def __init__(self, value=None):\n",
    "        self.value = value\n",
    "        self.right = None\n",
    "        self.left = None"
   ]
  },
  {
   "cell_type": "markdown",
   "id": "violent-couple",
   "metadata": {},
   "source": [
    "# Класс стека"
   ]
  },
  {
   "cell_type": "code",
   "execution_count": 45,
   "id": "honey-regard",
   "metadata": {},
   "outputs": [],
   "source": [
    "class Stack:    \n",
    "    def __init__(self):\n",
    "        self.head = LinkedNode()\n",
    "        self.size = 0\n",
    "\n",
    "    def is_empty(self):\n",
    "        return self.size == 0\n",
    "\n",
    "    def push(self, value):\n",
    "        if self.size > 0:\n",
    "            node = LinkedNode(value)\n",
    "            node.right = self.head\n",
    "            self.head = node\n",
    "        else:\n",
    "            self.head.value = value\n",
    "        self.size += 1\n",
    "      \n",
    "    def pop(self):\n",
    "        if self.is_empty():\n",
    "            raise Exception(\"Popping from an empty stack\")\n",
    "        remove = self.head\n",
    "        if self.size > 1:\n",
    "            self.head = remove.right\n",
    "        self.size -= 1\n",
    "        return remove.value\n",
    "    \n",
    "    def peek(self):\n",
    "        if self.is_empty():\n",
    "            raise Exception(\"Popping from an empty stack\")\n",
    "        return self.head.value\n",
    "    \n",
    "    def __len__(self):\n",
    "        return self.size\n",
    "\n",
    "    def reverse(self):\n",
    "        current = self.head\n",
    "        prev = None\n",
    "        next = None\n",
    " \n",
    "        while current is not None:\n",
    "            next = current.right\n",
    "            current.right = prev\n",
    "            prev = current\n",
    "            current = next\n",
    "\n",
    "        self.head = prev"
   ]
  },
  {
   "cell_type": "markdown",
   "id": "fourth-mission",
   "metadata": {},
   "source": [
    "# Класс дека"
   ]
  },
  {
   "cell_type": "code",
   "execution_count": 46,
   "id": "determined-survey",
   "metadata": {},
   "outputs": [],
   "source": [
    "class Deque:\n",
    "    def __init__(self):\n",
    "        self.head = LinkedNode()\n",
    "        self.tail = self.head\n",
    "        self.size = 0\n",
    "    \n",
    "    def is_empty(self):\n",
    "        return self.size == 0\n",
    "\n",
    "    def push_left(self, value):\n",
    "        if self.size > 0:\n",
    "            node = LinkedNode(value)\n",
    "            node.right = self.tail\n",
    "            self.tail.left = node\n",
    "            self.tail = node\n",
    "        else:\n",
    "            self.tail.value = value\n",
    "        self.size += 1\n",
    "\n",
    "    def push(self, value):\n",
    "        if self.size > 0:\n",
    "            node = LinkedNode(value)\n",
    "            node.left = self.head\n",
    "            self.head.right = node\n",
    "            self.head = node\n",
    "        else:\n",
    "            self.head.value = value\n",
    "        self.size += 1\n",
    "    \n",
    "    def pop_left(self):\n",
    "        if self.is_empty():\n",
    "            raise Exception(\"Popping from an empty deque\")\n",
    "        remove = self.tail\n",
    "        if self.size > 1:\n",
    "            self.tail = remove.right\n",
    "        self.size -= 1\n",
    "        return remove.value\n",
    "    \n",
    "    def pop(self):\n",
    "        if self.is_empty():\n",
    "            raise Exception(\"Popping from an empty deque\")\n",
    "        remove = self.head\n",
    "        if self.size > 1:\n",
    "            self.head = remove.left\n",
    "        self.size -= 1\n",
    "        return remove.value\n",
    "    \n",
    "    def peek(self):\n",
    "        if self.is_empty():\n",
    "            raise Exception(\"Popping from an empty deque\")\n",
    "        return self.head.value\n",
    "    \n",
    "    def peek_left(self):\n",
    "        if self.is_empty():\n",
    "            raise Exception(\"Popping from an empty deque\")\n",
    "        return self.tail.value\n",
    "\n",
    "    def __len__(self):\n",
    "        return self.size"
   ]
  },
  {
   "cell_type": "markdown",
   "id": "governmental-thread",
   "metadata": {},
   "source": [
    "# 1 Задание\n",
    "Отсортировать строки файла, содержащие названия книг, в алфавитном порядке с\n",
    "использованием двух деков."
   ]
  },
  {
   "cell_type": "code",
   "execution_count": 29,
   "id": "rising-aberdeen",
   "metadata": {},
   "outputs": [
    {
     "name": "stdout",
     "output_type": "stream",
     "text": [
      "Eat Pray Love\n",
      "\n",
      "Forrest Gump\n",
      "\n",
      "Hitch\n",
      "\n",
      "Into the Woods\n",
      "\n",
      "Secret Window\n",
      "Seven Pounds\n",
      "\n",
      "Spy\n",
      "\n",
      "The Holiday\n",
      "\n",
      "The Martian\n",
      "\n",
      "Tomorrowland\n",
      "\n"
     ]
    }
   ],
   "source": [
    "with open('books.txt', 'r') as books:\n",
    "    d1 = Deque()\n",
    "    d2 = Deque()\n",
    "    for book in books:\n",
    "        d1.push(book)\n",
    "    while not d1.is_empty():\n",
    "        a = d1.pop()\n",
    "        while not d2.is_empty() and d2.peek() > a:\n",
    "            d1.push_left(d2.pop())\n",
    "        d2.push(a)\n",
    "    while not d2.is_empty():\n",
    "        print(d2.pop_left())"
   ]
  },
  {
   "cell_type": "markdown",
   "id": "complete-thermal",
   "metadata": {},
   "source": [
    "# 2 Задание \n",
    "Дек содержит последовательность символов для шифровки сообщений. Дан\n",
    "текстовый файл, содержащий зашифрованное сообщение. Пользуясь деком,\n",
    "расшифровать текст. Известно, что при шифровке каждый символ сообщения\n",
    "заменялся следующим за ним в деке по часовой стрелке через один."
   ]
  },
  {
   "cell_type": "code",
   "execution_count": 30,
   "id": "strong-partition",
   "metadata": {},
   "outputs": [
    {
     "name": "stdout",
     "output_type": "stream",
     "text": [
      "аьюфёугостхяикйчдвеылщшэцбжрнпъмз\n",
      "вый тсвынркх ъстщывсеьхыщюпстхю ткзесщсе вщи экёнсейк тссжшыпкч. вьп хыйтхселч ёьчщ, тсвынрьшкч аьэкёнсеьппсы тссжшыпкы. ъсщюагитю выйсз, ньтэкёнсеьхю хыйтх. каеытхпс, дхс ънк экёнсейы йьрвлч ткзесщ тссжшыпки аьзыпищти тщывгфшкз аь пкз е выйы ъс дьтсесч тхныщйы дыныа свкп.\n",
      "дек содержит последовательность символов для шифровки сообщений. дан текстовый файл, содержащий зашифрованное сообщение. пользуясь деком, расшифровать текст. известно, что при шифровке каждый символ сообщения заменялся следующим за ним в деке по часовой стрелке через один.\n"
     ]
    }
   ],
   "source": [
    "import random\n",
    "\n",
    "alphabet = list('абвгдеёжзийклмнопрстуфхцчшщъыьэюя')\n",
    "random.shuffle(alphabet)\n",
    "alphabet = ''.join(alphabet)\n",
    "print(alphabet)\n",
    "keyRing = Deque()\n",
    "for letter in alphabet:\n",
    "    keyRing.push(letter)\n",
    "       \n",
    "def encode_char(c):\n",
    "    for i in range(len(keyRing)):\n",
    "        x = keyRing.pop_left()\n",
    "        if x == c:\n",
    "            keyRing.push(x)\n",
    "            val = keyRing.pop_left()\n",
    "            keyRing.push(val)\n",
    "            return val\n",
    "        keyRing.push(x)\n",
    "\n",
    "def decode_char(c):\n",
    "    for i in range(len(keyRing)):\n",
    "        x = keyRing.pop()\n",
    "        if x == c:\n",
    "            keyRing.push_left(x)\n",
    "            val = keyRing.pop()\n",
    "            keyRing.push_left(val)\n",
    "            return val\n",
    "        keyRing.push_left(x)\n",
    "        \n",
    "text = 'Дек содержит последовательность символов для шифровки сообщений. Дан текстовый файл, содержащий зашифрованное сообщение. Пользуясь деком, расшифровать текст. Известно, что при шифровке каждый символ сообщения заменялся следующим за ним в деке по часовой стрелке через один.'.lower()\n",
    "\n",
    "encoded = ''\n",
    "for letter in text:\n",
    "    if encoded_letter := encode_char(letter):\n",
    "        encoded += encoded_letter\n",
    "    else:\n",
    "        encoded += letter\n",
    "\n",
    "print(encoded)\n",
    "\n",
    "decoded = ''\n",
    "for letter in encoded:\n",
    "    if decoded_letter := decode_char(letter):\n",
    "        decoded += decoded_letter\n",
    "    else:\n",
    "        decoded += letter\n",
    "print(decoded)"
   ]
  },
  {
   "cell_type": "markdown",
   "id": "written-defensive",
   "metadata": {},
   "source": [
    "# 3 Задание\n",
    "Даны три стержня и n дисков различного размера. Диски можно надевать на\n",
    "стержни, образуя из них башни. Перенести n дисков со стержня А на стержень С,\n",
    "сохранив их первоначальный порядок. При переносе дисков необходимо соблюдать\n",
    "следующие правила:\n",
    "- на каждом шаге со стержня на стержень переносить только один диск;\n",
    "- диск нельзя помещать на диск меньшего размера;\n",
    "- для промежуточного хранения можно использовать стержень В.\n",
    "Реализовать алгоритм, используя три стека вместо стержней А, В, С. Информация\n",
    "о дисках хранится в исходном файле."
   ]
  },
  {
   "cell_type": "code",
   "execution_count": 7,
   "id": "consistent-poverty",
   "metadata": {},
   "outputs": [
    {
     "name": "stdout",
     "output_type": "stream",
     "text": [
      "1\n",
      "2\n",
      "3\n",
      "4\n",
      "5\n",
      "6\n",
      "7\n",
      "8\n",
      "9\n",
      "10\n"
     ]
    }
   ],
   "source": [
    "A = Stack()\n",
    "B = Stack()\n",
    "C = Stack()\n",
    "\n",
    "disks = 10\n",
    "\n",
    "for i in range(disks, 0, -1):\n",
    "    A.push(i)\n",
    "\n",
    "def move(a, b):\n",
    "    if len(a) == 0 and len(b) > 0:\n",
    "        a.push(b.pop())\n",
    "    elif len(a) > 0 and len(b) == 0:\n",
    "        b.push(a.pop())\n",
    "    elif a.peek() > b.peek():\n",
    "        a.push(b.pop())\n",
    "    else:\n",
    "        b.push(a.pop())\n",
    "\n",
    "if disks % 2 == 0:\n",
    "    while len(C) != disks:\n",
    "        move(A, B)\n",
    "        move(A, C)\n",
    "        move(B, C)\n",
    "else:\n",
    "    while len(C) != disks:\n",
    "        move(A, C)\n",
    "        move(A, B)\n",
    "        move(B, C)\n",
    "\n",
    "while not C.is_empty():\n",
    "    print(C.pop())"
   ]
  },
  {
   "cell_type": "markdown",
   "id": "international-maldives",
   "metadata": {},
   "source": [
    "# 4 Задание \n",
    "Дан текстовый файл с программой на алгоритмическом языке. За один просмотр\n",
    "файла проверить баланс круглых скобок в тексте, используя стек."
   ]
  },
  {
   "cell_type": "code",
   "execution_count": 31,
   "id": "english-sodium",
   "metadata": {},
   "outputs": [
    {
     "name": "stdout",
     "output_type": "stream",
     "text": [
      "False\n",
      "True\n"
     ]
    }
   ],
   "source": [
    "def check_brackets(string):\n",
    "    bracket_stack = Stack()\n",
    "    for i in string:\n",
    "        if i == '(':\n",
    "            bracket_stack.push(i)\n",
    "        elif i == ')':\n",
    "            if bracket_stack.is_empty():\n",
    "                return False\n",
    "            bracket_stack.pop()\n",
    "    return bracket_stack.is_empty()\n",
    "\n",
    "print(check_brackets('()())((())(()(())()'))\n",
    "print(check_brackets('(()())()()()()(()(()(())()))'))"
   ]
  },
  {
   "cell_type": "markdown",
   "id": "continuous-polls",
   "metadata": {},
   "source": [
    "# 5 Задание \n",
    "Дан текстовый файл с программой на алгоритмическом языке. За один просмотр\n",
    "файла проверить баланс квадратных скобок в тексте, используя дек."
   ]
  },
  {
   "cell_type": "code",
   "execution_count": 32,
   "id": "spoken-shoulder",
   "metadata": {},
   "outputs": [
    {
     "name": "stdout",
     "output_type": "stream",
     "text": [
      "Скобок хватает\n"
     ]
    }
   ],
   "source": [
    "check = Deque()\n",
    "\n",
    "with open('kvadrs.txt', 'r') as brackets:    \n",
    "    while True:\n",
    "        char = brackets.read(1)\n",
    "        if not char:\n",
    "            break\n",
    "            \n",
    "        if char == '[':\n",
    "            check.push(char)\n",
    "        elif char == ']':\n",
    "            if check.is_empty():\n",
    "                break\n",
    "            check.pop()\n",
    "            \n",
    "if check.is_empty():\n",
    "    print('Скобок хватает')\n",
    "else:\n",
    "    print('Скобок не хватает')"
   ]
  },
  {
   "cell_type": "markdown",
   "id": "maritime-beach",
   "metadata": {},
   "source": [
    "# 6 Задание \n",
    "Дан файл из символов. Используя стек, за один просмотр файла напечатать\n",
    "сначала все цифры, затем все буквы, и, наконец, все остальные символы, сохраняя\n",
    "исходный порядок в каждой группе символов."
   ]
  },
  {
   "cell_type": "code",
   "execution_count": 33,
   "id": "instant-farmer",
   "metadata": {},
   "outputs": [
    {
     "name": "stdout",
     "output_type": "stream",
     "text": [
      "546537848thpshpoRFRFFRhiUrGIFRO?>?/.?>?>&\n"
     ]
    }
   ],
   "source": [
    "letters = Stack()  \n",
    "digits = Stack()\n",
    "others = Stack()\n",
    "result = ''\n",
    "\n",
    "with open('posled.txt', 'r') as f:\n",
    "    while True:\n",
    "        c = f.read(1)\n",
    "        if not c:\n",
    "            break   \n",
    "        if c.isalpha():\n",
    "            letters.push(c)\n",
    "        elif c.isdigit():\n",
    "            digits.push(c)\n",
    "        else:\n",
    "            others.push(c)\n",
    "            \n",
    "    letters.reverse()\n",
    "    digits.reverse()\n",
    "    others.reverse()   \n",
    "    \n",
    "    while not digits.is_empty():\n",
    "        result += digits.pop()\n",
    "    while not letters.is_empty():\n",
    "        result += letters.pop()\n",
    "    while not others.is_empty():\n",
    "        result += others.pop()\n",
    "            \n",
    "print(result)"
   ]
  },
  {
   "cell_type": "markdown",
   "id": "plastic-insight",
   "metadata": {},
   "source": [
    "# 7 Задание\n",
    "Дан файл из целых чисел. Используя дек, за один просмотр файла напечатать\n",
    "сначала все отрицательные числа, затем все положительные числа, сохраняя\n",
    "исходный порядок в каждой группе."
   ]
  },
  {
   "cell_type": "code",
   "execution_count": 34,
   "id": "purple-compression",
   "metadata": {},
   "outputs": [
    {
     "name": "stdout",
     "output_type": "stream",
     "text": [
      "[0, -7, 10, -4, 5, 1, 5, -5, -5, -9]\n",
      "-7\n",
      "-4\n",
      "-5\n",
      "-5\n",
      "-9\n",
      "0\n",
      "10\n",
      "5\n",
      "1\n",
      "5\n"
     ]
    }
   ],
   "source": [
    "numbers = [random.randint(-10, 10) for i in range(10)]\n",
    "print(numbers)\n",
    "\n",
    "deque = Deque()\n",
    "for n in numbers:\n",
    "    if n < 0:\n",
    "        deque.push_left(n)\n",
    "    else:\n",
    "        deque.push(n)\n",
    "\n",
    "while not deque.is_empty():\n",
    "    x = deque.pop_left()\n",
    "    if x < 0:\n",
    "        deque.push(x)\n",
    "    else:\n",
    "        deque.push_left(x)\n",
    "        break\n",
    "\n",
    "while not deque.is_empty():\n",
    "    x = deque.pop()\n",
    "    if x < 0:\n",
    "        print(x)\n",
    "    else:\n",
    "        deque.push(x)\n",
    "        break\n",
    "\n",
    "while not deque.is_empty():\n",
    "    print(deque.pop_left())"
   ]
  },
  {
   "cell_type": "markdown",
   "id": "marked-panama",
   "metadata": {},
   "source": [
    "# 8 Задание \n",
    "Дан текстовый файл. Используя стек, сформировать новый текстовый файл,\n",
    "содержащий строки исходного файла, записанные в обратном порядке: первая\n",
    "строка становится последней, вторая – предпоследней и т.д."
   ]
  },
  {
   "cell_type": "code",
   "execution_count": 35,
   "id": "detected-latex",
   "metadata": {},
   "outputs": [
    {
     "name": "stdout",
     "output_type": "stream",
     "text": [
      "one\n",
      "two\n",
      "three\n",
      "four\n",
      "five\n",
      "six\n",
      "seven\n",
      "eight\n",
      "nine\n",
      "\n",
      "nine\n",
      "eight\n",
      "seven\n",
      "six\n",
      "five\n",
      "four\n",
      "three\n",
      "two\n",
      "one\n"
     ]
    }
   ],
   "source": [
    "with open('por.txt', 'r') as books:\n",
    "    stack = Stack()\n",
    "    for book in books:\n",
    "        book = book.strip()\n",
    "        print(book)\n",
    "        stack.push(book)\n",
    "    print()\n",
    "    while not stack.is_empty():\n",
    "        print(stack.pop())"
   ]
  },
  {
   "cell_type": "markdown",
   "id": "continental-turning",
   "metadata": {},
   "source": [
    "# 9 Задание\n",
    "Дан текстовый файл. Используя стек, вычислить значение логического выражения,\n",
    "записанного в текстовом файле в следующей форме:\n",
    "< ЛВ > ::= T | F | (N<ЛВ>) | (<ЛВ>A<ЛВ>) | (<ЛВ>X<ЛВ>) | (<ЛВ>O<ЛВ>),\n",
    "где буквами обозначены логические константы и операции:\n",
    "T – True, F – False, N – Not, A – And, X – Xor, O – Or."
   ]
  },
  {
   "cell_type": "code",
   "execution_count": 36,
   "id": "variable-despite",
   "metadata": {},
   "outputs": [
    {
     "name": "stdout",
     "output_type": "stream",
     "text": [
      "T\n"
     ]
    }
   ],
   "source": [
    "text = '((T)XF)X(TAT)OT'\n",
    "\n",
    "opstack = Stack()\n",
    "vstack = Stack()\n",
    "\n",
    "cur = 0\n",
    "while True:\n",
    "    read = False\n",
    "    if not opstack.is_empty():\n",
    "        if opstack.peek() == 'N':\n",
    "            if vstack.is_empty():\n",
    "                read = True\n",
    "            else:\n",
    "                if vstack.pop() == 'T':\n",
    "                    vstack.push('F')\n",
    "                else:\n",
    "                    vstack.push('T')\n",
    "                opstack.pop()\n",
    "        elif opstack.peek() == 'A':\n",
    "            if len(vstack) < 2:\n",
    "                read = True\n",
    "            else:\n",
    "                a = vstack.pop()\n",
    "                b = vstack.pop()\n",
    "                if a == b and b == 'T':\n",
    "                    vstack.push('T')\n",
    "                else:\n",
    "                    vstack.push('F')\n",
    "                opstack.pop()\n",
    "        elif opstack.peek() == 'O':\n",
    "            if len(vstack) < 2:\n",
    "                read = True\n",
    "            else:\n",
    "                a = vstack.pop()\n",
    "                b = vstack.pop()\n",
    "                if a == 'T' or b == 'T':\n",
    "                    vstack.push('T')\n",
    "                else:\n",
    "                    vstack.push('F')\n",
    "                opstack.pop()\n",
    "        elif opstack.peek() == 'X':\n",
    "            if len(vstack) < 2:\n",
    "                read = True\n",
    "            else:\n",
    "                a = vstack.pop()\n",
    "                b = vstack.pop()\n",
    "                if a != b:\n",
    "                    vstack.push('T')\n",
    "                else:\n",
    "                    vstack.push('F')\n",
    "                opstack.pop()\n",
    "        elif opstack.peek() == '(':\n",
    "            read = True\n",
    "        elif opstack.peek() == ')':\n",
    "            opstack.pop()\n",
    "            opstack.pop()\n",
    "    else:\n",
    "        read = True\n",
    "    if read:\n",
    "        i = text[cur]\n",
    "        if i in 'FT':\n",
    "            vstack.push(i)\n",
    "        if i in 'AXON()':\n",
    "            opstack.push(i)\n",
    "        cur += 1\n",
    "    \n",
    "\n",
    "    if cur == len(text) and len(opstack) == 0:\n",
    "        break\n",
    "\n",
    "while not vstack.is_empty():\n",
    "    print(vstack.pop())"
   ]
  },
  {
   "cell_type": "markdown",
   "id": "prospective-aaron",
   "metadata": {},
   "source": [
    "# 10 Задание \n",
    "Дан текстовый файл. В текстовом файле записана формула следующего вида:\n",
    "<Формула> ::= <Цифра> | M(<Формула>,<Формула>) | N(Формула>,<Формула>)\n",
    "< Цифра > ::= 0 | 1 | 2 | 3 | 4 | 5 | 6 | 7 | 8 | 9\n",
    "где буквами обозначены функции:\n",
    "M – определение максимума, N – определение минимума.\n",
    "Используя стек, вычислить значение заданного выражения."
   ]
  },
  {
   "cell_type": "code",
   "execution_count": 37,
   "id": "existing-messenger",
   "metadata": {},
   "outputs": [
    {
     "name": "stdout",
     "output_type": "stream",
     "text": [
      "7\n"
     ]
    }
   ],
   "source": [
    "text = 'N(10, M(4, N(8, M(7, M(6, M(5, 4))))))'\n",
    "\n",
    "op = Stack()\n",
    "nums = Stack()\n",
    "\n",
    "num = ''\n",
    "\n",
    "cur = 0\n",
    "while cur < len(text):\n",
    "    i = text[cur]\n",
    "    if i.isdigit():\n",
    "        num += i\n",
    "    elif num != '':\n",
    "        nums.push(int(num))\n",
    "        num = ''\n",
    "    if i in 'MN':\n",
    "        op.push(i)\n",
    "    cur += 1\n",
    "\n",
    "while not op.is_empty():\n",
    "    a = nums.pop()\n",
    "    b = nums.pop()\n",
    "    if a < b:\n",
    "        a,b = b,a\n",
    "    if op.pop() == 'M':\n",
    "        nums.push(a)\n",
    "    else:\n",
    "        nums.push(b)\n",
    "\n",
    "while not nums.is_empty():\n",
    "    print(nums.pop())"
   ]
  },
  {
   "cell_type": "markdown",
   "id": "detailed-brave",
   "metadata": {},
   "source": [
    "# 11 Задание\n",
    "Дан текстовый файл. Используя стек, проверить, является ли содержимое\n",
    "текстового файла правильной записью формулы вида:\n",
    "< Формула > ::= < Терм > | < Терм > + < Формула > | < Терм > - < Формула >\n",
    "< Терм > ::= < Имя > | (< Формула >)\n",
    "< Имя > ::= x | y | z"
   ]
  },
  {
   "cell_type": "code",
   "execution_count": 48,
   "id": "inclusive-bandwidth",
   "metadata": {
    "scrolled": true
   },
   "outputs": [
    {
     "name": "stdout",
     "output_type": "stream",
     "text": [
      "True\n"
     ]
    }
   ],
   "source": [
    "def formula(string):\n",
    "    stack = Stack()\n",
    "    result = False\n",
    "\n",
    "    string = string.replace('(', '')\n",
    "    string = string.replace(')', '')\n",
    "    for i in string:\n",
    "        stack.push(i)\n",
    "\n",
    "    while not stack.is_empty():\n",
    "        temp = stack.pop()\n",
    "        if temp.isalpha():\n",
    "            if result:\n",
    "                return False\n",
    "            else:\n",
    "                result = True\n",
    "        else:\n",
    "            result = False\n",
    "\n",
    "    return result\n",
    "\n",
    "\n",
    "print(formula('X+(Z-Y)'))"
   ]
  },
  {
   "cell_type": "markdown",
   "id": "appointed-empty",
   "metadata": {},
   "source": [
    "## Вывод: \n",
    "В данной лараторной работе мы познакомились со стеком и деком, а также применилb на прктике в виде 11 задач эти знания"
   ]
  },
  {
   "cell_type": "code",
   "execution_count": null,
   "id": "vital-physiology",
   "metadata": {},
   "outputs": [],
   "source": []
  }
 ],
 "metadata": {
  "kernelspec": {
   "display_name": "Python 3 (ipykernel)",
   "language": "python",
   "name": "python3"
  },
  "language_info": {
   "codemirror_mode": {
    "name": "ipython",
    "version": 3
   },
   "file_extension": ".py",
   "mimetype": "text/x-python",
   "name": "python",
   "nbconvert_exporter": "python",
   "pygments_lexer": "ipython3",
   "version": "3.10.2"
  }
 },
 "nbformat": 4,
 "nbformat_minor": 5
}
